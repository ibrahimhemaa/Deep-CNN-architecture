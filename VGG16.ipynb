{
  "cells": [
    {
      "cell_type": "code",
      "execution_count": 49,
      "metadata": {
        "id": "lAp-c1FmAF1U"
      },
      "outputs": [],
      "source": [
        "\n",
        "import tensorflow as tf\n",
        "from tensorflow.keras.utils import to_categorical\n",
        "from tensorflow.keras import datasets, layers, models\n",
        "from tensorflow.keras.applications import VGG16\n",
        "from tensorflow.keras.applications import resnet50\n",
        "from tensorflow.keras.datasets import mnist, fashion_mnist\n",
        "from sklearn.metrics import confusion_matrix\n",
        "from tensorflow.keras import Sequential\n",
        "from tensorflow.keras.layers import Conv2D, AveragePooling2D, Flatten, Dense,MaxPool2D,MaxPooling2D"
      ]
    },
    {
      "cell_type": "code",
      "execution_count": 50,
      "metadata": {
        "id": "UqTqTdrrBFe4"
      },
      "outputs": [],
      "source": [
        "(x_train_mnist, y_train_mnist), (x_test_mnist, y_test_mnist) = mnist.load_data()\n",
        "(x_train_fashion, y_train_fashion), (x_test_fashion, y_test_fashion) = fashion_mnist.load_data()"
      ]
    },
    {
      "cell_type": "code",
      "execution_count": 51,
      "metadata": {
        "id": "xPFLIIfwCkfO"
      },
      "outputs": [],
      "source": [
        "\n",
        "x_train_mnist = x_train_mnist / 255.0\n",
        "x_test_mnist = x_test_mnist / 255.0"
      ]
    },
    {
      "cell_type": "code",
      "execution_count": 52,
      "metadata": {
        "colab": {
          "base_uri": "https://localhost:8080/"
        },
        "id": "V0QIkpc6gWaG",
        "outputId": "d40eed12-dd49-4d7e-aa17-35c7e1edb1ae"
      },
      "outputs": [
        {
          "name": "stdout",
          "output_type": "stream",
          "text": [
            "shape of x_train_mnist=(60000, 28, 28) , x_test_mnist=(10000, 28, 28) , y_train_mnist=(60000,) and y_test_mnist=(10000,)\n"
          ]
        }
      ],
      "source": [
        "print(f'shape of x_train_mnist={x_train_mnist.shape} , x_test_mnist={x_test_mnist.shape} , y_train_mnist={y_train_mnist.shape} and y_test_mnist={y_test_mnist.shape}')\n"
      ]
    },
    {
      "cell_type": "code",
      "execution_count": 53,
      "metadata": {
        "id": "IHtkoHHwgYQW"
      },
      "outputs": [],
      "source": [
        "x_train_mnist=x_train_mnist.reshape((x_train_mnist.shape[0],28,28,1))\n",
        "x_test_mnist=x_test_mnist.reshape((x_test_mnist.shape[0],28,28,1))\n",
        "y_train_mnist = to_categorical(y_train_mnist)\n",
        "y_test_mnist = to_categorical(y_test_mnist)"
      ]
    },
    {
      "cell_type": "code",
      "execution_count": 54,
      "metadata": {
        "colab": {
          "base_uri": "https://localhost:8080/"
        },
        "id": "dRCXpeDCgajD",
        "outputId": "75993738-b879-4eea-98c4-f4d8426f2962"
      },
      "outputs": [
        {
          "name": "stdout",
          "output_type": "stream",
          "text": [
            "shape of x_train_mnist=(60000, 28, 28, 1) , x_test_mnist=(10000, 28, 28, 1) , y_train_mnist=(60000, 10) and y_test_mnist=(10000, 10)\n"
          ]
        }
      ],
      "source": [
        "print(f'shape of x_train_mnist={x_train_mnist.shape} , x_test_mnist={x_test_mnist.shape} , y_train_mnist={y_train_mnist.shape} and y_test_mnist={y_test_mnist.shape}')\n"
      ]
    },
    {
      "cell_type": "markdown",
      "metadata": {
        "id": "UrxpxGamrrgq"
      },
      "source": [
        "VGG16"
      ]
    },
    {
      "cell_type": "code",
      "execution_count": 55,
      "metadata": {
        "id": "4rSHsJaN7yFl"
      },
      "outputs": [],
      "source": [
        "vgg16_model = VGG16(weights='imagenet', include_top=False, input_shape=(224, 224, 3))"
      ]
    },
    {
      "cell_type": "code",
      "execution_count": 56,
      "metadata": {
        "id": "CVf5AFzYjJkQ"
      },
      "outputs": [],
      "source": [
        "model=models.Sequential()"
      ]
    },
    {
      "cell_type": "code",
      "execution_count": 57,
      "metadata": {
        "id": "cn8LEC-vylnw"
      },
      "outputs": [],
      "source": [
        "'''\n",
        "1-2*64 +pool\n",
        "2-2*128+pool\n",
        "3-2*256+pool\n",
        "4=3*512+pool\n",
        "5-3*512+pool\n",
        "Flatten\n",
        "full layer\n",
        "'''\n",
        "model.add(layers.Conv2D(64, (3, 3), activation='relu',padding='same', input_shape=(28, 28, 1)))\n",
        "model.add(layers.Conv2D(64, (3, 3), activation='relu',padding='same'))\n",
        "model.add(layers.MaxPooling2D(pool_size=(2, 2),strides=(2,2)))\n",
        "model.add(layers.Conv2D(128, (3, 3), activation='relu',padding='same'))\n",
        "model.add(layers.Conv2D(128, (3, 3), activation='relu',padding='same'))\n",
        "model.add(layers.MaxPooling2D(pool_size=(2, 2),strides=(2,2)))\n",
        "model.add(layers.Conv2D(256, (3, 3), activation='relu',padding='same'))\n",
        "model.add(layers.Conv2D(256, (3, 3), activation='relu',padding='same'))\n",
        "model.add(layers.Conv2D(256, (3, 3), activation='relu',padding='same'))\n",
        "model.add(layers.MaxPooling2D(pool_size=(2, 2),strides=(2,2)))\n",
        "model.add(layers.Conv2D(512, (3, 3), activation='relu',padding='same'))\n",
        "model.add(layers.Conv2D(512, (3, 3), activation='relu',padding='same'))\n",
        "model.add(layers.Conv2D(512, (3, 3), activation='relu',padding='same'))\n",
        "model.add(layers.MaxPooling2D(pool_size=(2, 2),strides=(2,2)))\n"
      ]
    },
    {
      "cell_type": "code",
      "execution_count": 58,
      "metadata": {
        "id": "TpIjFj9Axgoc"
      },
      "outputs": [],
      "source": [
        "model.add(layers.Flatten())\n"
      ]
    },
    {
      "cell_type": "code",
      "execution_count": 59,
      "metadata": {
        "id": "SoOEA1cxxqtm"
      },
      "outputs": [],
      "source": [
        "model.add(layers.Dense(4096, activation='relu'))\n",
        "model.add(layers.Dense(4096, activation='relu'))\n",
        "model.add(layers.Dense(10, activation='softmax'))"
      ]
    },
    {
      "cell_type": "code",
      "execution_count": 60,
      "metadata": {
        "colab": {
          "base_uri": "https://localhost:8080/"
        },
        "id": "xMScB1Pb5brx",
        "outputId": "55b0fcbb-20c3-4c4c-c8ad-204f916261f2"
      },
      "outputs": [
        {
          "name": "stdout",
          "output_type": "stream",
          "text": [
            "Epoch 1/5\n",
            "938/938 [==============================] - 2630s 3s/step - loss: 0.5551 - accuracy: 0.7998 - val_loss: 0.1298 - val_accuracy: 0.9709\n",
            "Epoch 2/5\n",
            "938/938 [==============================] - 2588s 3s/step - loss: 0.0811 - accuracy: 0.9792 - val_loss: 0.0578 - val_accuracy: 0.9838\n",
            "Epoch 3/5\n",
            "938/938 [==============================] - 2560s 3s/step - loss: 0.0624 - accuracy: 0.9848 - val_loss: 0.0384 - val_accuracy: 0.9896\n",
            "Epoch 4/5\n",
            "938/938 [==============================] - 2555s 3s/step - loss: 0.0531 - accuracy: 0.9865 - val_loss: 0.0384 - val_accuracy: 0.9908\n",
            "Epoch 5/5\n",
            "938/938 [==============================] - 2618s 3s/step - loss: 0.0477 - accuracy: 0.9883 - val_loss: 0.0701 - val_accuracy: 0.9852\n"
          ]
        },
        {
          "data": {
            "text/plain": [
              "<keras.src.callbacks.History at 0x7b248824a980>"
            ]
          },
          "execution_count": 60,
          "metadata": {},
          "output_type": "execute_result"
        }
      ],
      "source": [
        "model.compile(optimizer='adam',\n",
        "loss='categorical_crossentropy',\n",
        "metrics=['accuracy'])\n",
        "model.fit(x_train_mnist, y_train_mnist, epochs=5, batch_size=64, validation_data=(x_test_mnist, y_test_mnist))"
      ]
    },
    {
      "cell_type": "code",
      "execution_count": 61,
      "metadata": {
        "colab": {
          "base_uri": "https://localhost:8080/"
        },
        "id": "tjMjvSWI5loG",
        "outputId": "2bd0709c-bbb9-4294-dc43-e5894057ca06"
      },
      "outputs": [
        {
          "name": "stdout",
          "output_type": "stream",
          "text": [
            "Model: \"sequential_4\"\n",
            "_________________________________________________________________\n",
            " Layer (type)                Output Shape              Param #   \n",
            "=================================================================\n",
            " conv2d_45 (Conv2D)          (None, 28, 28, 64)        640       \n",
            "                                                                 \n",
            " conv2d_46 (Conv2D)          (None, 28, 28, 64)        36928     \n",
            "                                                                 \n",
            " max_pooling2d_18 (MaxPooli  (None, 14, 14, 64)        0         \n",
            " ng2D)                                                           \n",
            "                                                                 \n",
            " conv2d_47 (Conv2D)          (None, 14, 14, 128)       73856     \n",
            "                                                                 \n",
            " conv2d_48 (Conv2D)          (None, 14, 14, 128)       147584    \n",
            "                                                                 \n",
            " max_pooling2d_19 (MaxPooli  (None, 7, 7, 128)         0         \n",
            " ng2D)                                                           \n",
            "                                                                 \n",
            " conv2d_49 (Conv2D)          (None, 7, 7, 256)         295168    \n",
            "                                                                 \n",
            " conv2d_50 (Conv2D)          (None, 7, 7, 256)         590080    \n",
            "                                                                 \n",
            " conv2d_51 (Conv2D)          (None, 7, 7, 256)         590080    \n",
            "                                                                 \n",
            " max_pooling2d_20 (MaxPooli  (None, 3, 3, 256)         0         \n",
            " ng2D)                                                           \n",
            "                                                                 \n",
            " conv2d_52 (Conv2D)          (None, 3, 3, 512)         1180160   \n",
            "                                                                 \n",
            " conv2d_53 (Conv2D)          (None, 3, 3, 512)         2359808   \n",
            "                                                                 \n",
            " conv2d_54 (Conv2D)          (None, 3, 3, 512)         2359808   \n",
            "                                                                 \n",
            " max_pooling2d_21 (MaxPooli  (None, 1, 1, 512)         0         \n",
            " ng2D)                                                           \n",
            "                                                                 \n",
            " flatten_3 (Flatten)         (None, 512)               0         \n",
            "                                                                 \n",
            " dense_8 (Dense)             (None, 4096)              2101248   \n",
            "                                                                 \n",
            " dense_9 (Dense)             (None, 4096)              16781312  \n",
            "                                                                 \n",
            " dense_10 (Dense)            (None, 10)                40970     \n",
            "                                                                 \n",
            "=================================================================\n",
            "Total params: 26557642 (101.31 MB)\n",
            "Trainable params: 26557642 (101.31 MB)\n",
            "Non-trainable params: 0 (0.00 Byte)\n",
            "_________________________________________________________________\n"
          ]
        }
      ],
      "source": [
        "model.summary()"
      ]
    },
    {
      "cell_type": "code",
      "execution_count": 62,
      "metadata": {
        "colab": {
          "base_uri": "https://localhost:8080/"
        },
        "id": "oA5Z5qc5824j",
        "outputId": "6d3ba0df-99d9-441b-9ce2-fd7258704bc4"
      },
      "outputs": [
        {
          "name": "stdout",
          "output_type": "stream",
          "text": [
            "Layer Name: conv2d_45\n",
            "Trainable Parameters: 640\n",
            "\n",
            "Layer Name: conv2d_46\n",
            "Trainable Parameters: 36928\n",
            "\n",
            "Layer Name: max_pooling2d_18\n",
            "Trainable Parameters: 0\n",
            "\n",
            "Layer Name: conv2d_47\n",
            "Trainable Parameters: 73856\n",
            "\n",
            "Layer Name: conv2d_48\n",
            "Trainable Parameters: 147584\n",
            "\n",
            "Layer Name: max_pooling2d_19\n",
            "Trainable Parameters: 0\n",
            "\n",
            "Layer Name: conv2d_49\n",
            "Trainable Parameters: 295168\n",
            "\n",
            "Layer Name: conv2d_50\n",
            "Trainable Parameters: 590080\n",
            "\n",
            "Layer Name: conv2d_51\n",
            "Trainable Parameters: 590080\n",
            "\n",
            "Layer Name: max_pooling2d_20\n",
            "Trainable Parameters: 0\n",
            "\n",
            "Layer Name: conv2d_52\n",
            "Trainable Parameters: 1180160\n",
            "\n",
            "Layer Name: conv2d_53\n",
            "Trainable Parameters: 2359808\n",
            "\n",
            "Layer Name: conv2d_54\n",
            "Trainable Parameters: 2359808\n",
            "\n",
            "Layer Name: max_pooling2d_21\n",
            "Trainable Parameters: 0\n",
            "\n",
            "Layer Name: flatten_3\n",
            "Trainable Parameters: 0\n",
            "\n",
            "Layer Name: dense_8\n",
            "Trainable Parameters: 2101248\n",
            "\n",
            "Layer Name: dense_9\n",
            "Trainable Parameters: 16781312\n",
            "\n",
            "Layer Name: dense_10\n",
            "Trainable Parameters: 40970\n",
            "\n"
          ]
        }
      ],
      "source": [
        "for layer in model.layers:\n",
        "    print(f\"Layer Name: {layer.name}\")\n",
        "    print(f\"Trainable Parameters: {layer.count_params()}\\n\")"
      ]
    },
    {
      "cell_type": "code",
      "execution_count": 63,
      "metadata": {
        "colab": {
          "base_uri": "https://localhost:8080/",
          "height": 581
        },
        "id": "D_WVQLfm86Et",
        "outputId": "bc5dd87d-6669-4d4b-ffc6-197049eae9c1"
      },
      "outputs": [
        {
          "name": "stdout",
          "output_type": "stream",
          "text": [
            "313/313 [==============================] - 82s 262ms/step\n"
          ]
        },
        {
          "data": {
            "image/png": "[encoded data removed]",
            "text/plain": [
              "<Figure size 800x600 with 2 Axes>"
            ]
          },
          "metadata": {},
          "output_type": "display_data"
        }
      ],
      "source": [
        "import numpy as np\n",
        "predictions = model.predict(x_test_mnist)\n",
        "conf_matrix = confusion_matrix(np.argmax(y_test_mnist, axis=1), np.argmax(predictions, axis=1))\n",
        "# print(\"Confusion Matrix:\")\n",
        "# print(conf_matrix)\n",
        "import seaborn as sns\n",
        "from sklearn.metrics import confusion_matrix\n",
        "import matplotlib.pyplot as plt\n",
        "plt.figure(figsize=(8, 6))\n",
        "sns.heatmap(conf_matrix, annot=True, fmt='d', cmap='Blues')\n",
        "plt.xlabel('Predicted')\n",
        "plt.ylabel('True')\n",
        "plt.title('Confusion Matrix')\n",
        "plt.show()\n"
      ]
    },
    {
      "cell_type": "code",
      "execution_count": 64,
      "metadata": {
        "colab": {
          "base_uri": "https://localhost:8080/"
        },
        "id": "paXO5DKj8-sL",
        "outputId": "34581e4a-8850-43fc-cf6e-250eac8f2bdd"
      },
      "outputs": [
        {
          "name": "stdout",
          "output_type": "stream",
          "text": [
            "Precision: 0.9854756866557355\n",
            "Recall: 0.9852\n",
            "F1 Score: 0.9852103664646674\n"
          ]
        }
      ],
      "source": [
        "# Calculate precision, recall, and F1 score\n",
        "from sklearn.metrics import precision_recall_fscore_support\n",
        "precision, recall, f1_score, _ = precision_recall_fscore_support(np.argmax(y_test_mnist, axis=1), np.argmax(predictions, axis=1), average='weighted')\n",
        "print(f\"Precision: {precision}\")\n",
        "print(f\"Recall: {recall}\")\n",
        "print(f\"F1 Score: {f1_score}\")"
      ]
    },
    {
      "cell_type": "markdown",
      "metadata": {
        "id": "iVrRJarBWaxl"
      },
      "source": [
        "Resnet50"
      ]
    },
    {
      "cell_type": "code",
      "execution_count": null,
      "metadata": {
        "id": "zOHxo7MrWnSl"
      },
      "outputs": [],
      "source": []
    },
    {
      "cell_type": "code",
      "execution_count": null,
      "metadata": {
        "id": "0C4s2pr9Wni2"
      },
      "outputs": [],
      "source": []
    },
    {
      "cell_type": "code",
      "execution_count": null,
      "metadata": {
        "id": "7L8GsVXgWnzJ"
      },
      "outputs": [],
      "source": []
    },
    {
      "cell_type": "code",
      "execution_count": null,
      "metadata": {
        "id": "82LVZpfiWzU9"
      },
      "outputs": [],
      "source": []
    },
    {
      "cell_type": "code",
      "execution_count": null,
      "metadata": {
        "id": "qJ08_QaRWyi8"
      },
      "outputs": [],
      "source": []
    },
    {
      "cell_type": "code",
      "execution_count": null,
      "metadata": {
        "id": "pVvFGhJGWyYh"
      },
      "outputs": [],
      "source": []
    },
    {
      "cell_type": "code",
      "execution_count": null,
      "metadata": {
        "id": "nxz3VXe8WyIk"
      },
      "outputs": [],
      "source": []
    }
  ],
  "metadata": {
    "accelerator": "GPU",
    "colab": {
      "gpuType": "T4",
      "provenance": []
    },
    "kernelspec": {
      "display_name": "Python 3",
      "name": "python3"
    },
    "language_info": {
      "name": "python"
    }
  },
  "nbformat": 4,
  "nbformat_minor": 0
}
