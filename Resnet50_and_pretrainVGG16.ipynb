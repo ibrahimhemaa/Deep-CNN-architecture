{
  "nbformat": 4,
  "nbformat_minor": 0,
  "metadata": {
    "colab": {
      "provenance": [],
      "gpuType": "T4"
    },
    "kernelspec": {
      "name": "python3",
      "display_name": "Python 3"
    },
    "language_info": {
      "name": "python"
    },
    "accelerator": "GPU"
  },
  "cells": [
    {
      "cell_type": "code",
      "execution_count": 1,
      "metadata": {
        "id": "yfIntRcQp0JG"
      },
      "outputs": [],
      "source": [
        "\n",
        "import tensorflow as tf\n",
        "from tensorflow.keras.utils import to_categorical\n",
        "from tensorflow.keras import datasets, layers, models\n",
        "from tensorflow.keras.applications import VGG16\n",
        "from tensorflow.keras.applications import resnet50\n",
        "from tensorflow.keras.datasets import mnist, fashion_mnist\n",
        "from sklearn.metrics import confusion_matrix\n",
        "from tensorflow.keras import Sequential\n",
        "from tensorflow.keras.layers import Conv2D, AveragePooling2D, Flatten, Dense,MaxPool2D,MaxPooling2D,GlobalAveragePooling2D"
      ]
    },
    {
      "cell_type": "code",
      "source": [
        "(x_train_mnist, y_train_mnist), (x_test_mnist, y_test_mnist) = mnist.load_data()"
      ],
      "metadata": {
        "id": "kiJdOuUrhfEx",
        "colab": {
          "base_uri": "https://localhost:8080/"
        },
        "outputId": "9a045ec6-a1ec-4e83-bb81-0a5644903e7a"
      },
      "execution_count": null,
      "outputs": [
        {
          "output_type": "stream",
          "name": "stdout",
          "text": [
            "Downloading data from https://storage.googleapis.com/tensorflow/tf-keras-datasets/mnist.npz\n",
            "11490434/11490434 [==============================] - 1s 0us/step\n"
          ]
        }
      ]
    },
    {
      "cell_type": "code",
      "source": [
        "\n",
        "x_train_mnist = x_train_mnist / 255.0\n",
        "x_test_mnist = x_test_mnist / 255.0"
      ],
      "metadata": {
        "id": "-rIKYNUrhh5X"
      },
      "execution_count": null,
      "outputs": []
    },
    {
      "cell_type": "code",
      "source": [
        "print(f'shape of x_train_mnist={x_train_mnist.shape} , x_test_mnist={x_test_mnist.shape} , y_train_mnist={y_train_mnist.shape} and y_test_mnist={y_test_mnist.shape}')\n"
      ],
      "metadata": {
        "colab": {
          "base_uri": "https://localhost:8080/"
        },
        "id": "_VwUHPiOhkk9",
        "outputId": "69aa4945-bf3b-4da1-8c4d-6896e723a508"
      },
      "execution_count": null,
      "outputs": [
        {
          "output_type": "stream",
          "name": "stdout",
          "text": [
            "shape of x_train_mnist=(60000, 28, 28) , x_test_mnist=(10000, 28, 28) , y_train_mnist=(60000,) and y_test_mnist=(10000,)\n"
          ]
        }
      ]
    },
    {
      "cell_type": "code",
      "source": [
        "\n",
        "x_train_mnist=x_train_mnist.reshape((x_train_mnist.shape[0],28,28,1))\n",
        "x_test_mnist=x_test_mnist.reshape((x_test_mnist.shape[0],28,28,1))\n",
        "y_train_mnist = to_categorical(y_train_mnist)\n",
        "y_test_mnist = to_categorical(y_test_mnist)"
      ],
      "metadata": {
        "id": "LoPOpr9Vhnkj"
      },
      "execution_count": null,
      "outputs": []
    },
    {
      "cell_type": "code",
      "source": [
        "print(f'shape of x_train_mnist={x_train_mnist.shape} , x_test_mnist={x_test_mnist.shape} , y_train_mnist={y_train_mnist.shape} and y_test_mnist={y_test_mnist.shape}')\n"
      ],
      "metadata": {
        "colab": {
          "base_uri": "https://localhost:8080/"
        },
        "id": "-qCulagShpje",
        "outputId": "4de35345-7a85-4f3c-80ef-5c52df3fe8f0"
      },
      "execution_count": null,
      "outputs": [
        {
          "output_type": "stream",
          "name": "stdout",
          "text": [
            "shape of x_train_mnist=(60000, 28, 28, 1) , x_test_mnist=(10000, 28, 28, 1) , y_train_mnist=(60000, 10) and y_test_mnist=(10000, 10)\n"
          ]
        }
      ]
    },
    {
      "cell_type": "code",
      "source": [
        "model=models.Sequential()"
      ],
      "metadata": {
        "id": "ZhPJPwJth7bL"
      },
      "execution_count": null,
      "outputs": []
    },
    {
      "cell_type": "code",
      "source": [
        "def add_layer(parameter_layer,repeate):\n",
        "  for i in range(0,repeate):\n",
        "    model.add(layers.Conv2D(parameter_layer[0][2].numpy(), (parameter_layer[0][0].numpy(), parameter_layer[0][1].numpy()), activation='relu',padding='same'))\n",
        "    model.add(layers.BatchNormalization())\n",
        "    model.add(layers.Conv2D(parameter_layer[1][2].numpy(), (parameter_layer[1][0].numpy(), parameter_layer[1][1].numpy()), activation='relu',padding='same'))\n",
        "    model.add(layers.BatchNormalization())\n",
        "    model.add(layers.Conv2D(parameter_layer[2][2].numpy(), (parameter_layer[2][0].numpy(), parameter_layer[2][1].numpy()), activation='relu',padding='same'))\n",
        "    model.add(layers.BatchNormalization())"
      ],
      "metadata": {
        "id": "wgS9WHl6h6st"
      },
      "execution_count": null,
      "outputs": []
    },
    {
      "cell_type": "code",
      "source": [
        "def resnet50(input_layer,repeate_each_layer):\n",
        "  model.add(layers.Conv2D(64, (7, 7),strides=2, activation='relu', input_shape=(28, 28, 1)))\n",
        "  model.add(layers.BatchNormalization())\n",
        "  model.add(layers.MaxPooling2D(pool_size=(3, 3),strides=(2,2)))\n",
        "  for i in range(input_layer.shape[0]):\n",
        "    add_layer(input_layer[i],repeate_each_layer[i])"
      ],
      "metadata": {
        "id": "INQEzJqshsA2"
      },
      "execution_count": null,
      "outputs": []
    },
    {
      "cell_type": "code",
      "source": [
        "data=tf.Variable([[[1,1,64],[3,3,64],[1,1,256]],[[1,1,128],[3,3,128],[1,1,512]],[[1,1,256],[3,3,256],[1,1,1024]],[[1,1,512],[3,3,512],[1,1,2024]]])\n",
        "repeate=tf.Variable([3,4,6,3])\n",
        "resnet50(data,repeate)\n",
        "model.add(layers.GlobalAveragePooling2D())\n",
        "model.add(layers.Flatten())\n"
      ],
      "metadata": {
        "id": "hjbuUuOVh1UD"
      },
      "execution_count": null,
      "outputs": []
    },
    {
      "cell_type": "code",
      "source": [
        "model.add(layers.Dense(10, activation='softmax'))"
      ],
      "metadata": {
        "id": "3Y9m96Pmiqa-"
      },
      "execution_count": null,
      "outputs": []
    },
    {
      "cell_type": "code",
      "source": [
        "model.summary()"
      ],
      "metadata": {
        "colab": {
          "base_uri": "https://localhost:8080/"
        },
        "id": "zy-6GNqS5Udy",
        "outputId": "b9ae680f-2351-4e63-f718-91a2dc0d72a8"
      },
      "execution_count": null,
      "outputs": [
        {
          "output_type": "stream",
          "name": "stdout",
          "text": [
            "Model: \"sequential\"\n",
            "_________________________________________________________________\n",
            " Layer (type)                Output Shape              Param #   \n",
            "=================================================================\n",
            " conv2d (Conv2D)             (None, 11, 11, 64)        3200      \n",
            "                                                                 \n",
            " batch_normalization (Batch  (None, 11, 11, 64)        256       \n",
            " Normalization)                                                  \n",
            "                                                                 \n",
            " max_pooling2d (MaxPooling2  (None, 5, 5, 64)          0         \n",
            " D)                                                              \n",
            "                                                                 \n",
            " conv2d_1 (Conv2D)           (None, 5, 5, 64)          4160      \n",
            "                                                                 \n",
            " batch_normalization_1 (Bat  (None, 5, 5, 64)          256       \n",
            " chNormalization)                                                \n",
            "                                                                 \n",
            " conv2d_2 (Conv2D)           (None, 5, 5, 64)          36928     \n",
            "                                                                 \n",
            " batch_normalization_2 (Bat  (None, 5, 5, 64)          256       \n",
            " chNormalization)                                                \n",
            "                                                                 \n",
            " conv2d_3 (Conv2D)           (None, 5, 5, 256)         16640     \n",
            "                                                                 \n",
            " batch_normalization_3 (Bat  (None, 5, 5, 256)         1024      \n",
            " chNormalization)                                                \n",
            "                                                                 \n",
            " conv2d_4 (Conv2D)           (None, 5, 5, 64)          16448     \n",
            "                                                                 \n",
            " batch_normalization_4 (Bat  (None, 5, 5, 64)          256       \n",
            " chNormalization)                                                \n",
            "                                                                 \n",
            " conv2d_5 (Conv2D)           (None, 5, 5, 64)          36928     \n",
            "                                                                 \n",
            " batch_normalization_5 (Bat  (None, 5, 5, 64)          256       \n",
            " chNormalization)                                                \n",
            "                                                                 \n",
            " conv2d_6 (Conv2D)           (None, 5, 5, 256)         16640     \n",
            "                                                                 \n",
            " batch_normalization_6 (Bat  (None, 5, 5, 256)         1024      \n",
            " chNormalization)                                                \n",
            "                                                                 \n",
            " conv2d_7 (Conv2D)           (None, 5, 5, 64)          16448     \n",
            "                                                                 \n",
            " batch_normalization_7 (Bat  (None, 5, 5, 64)          256       \n",
            " chNormalization)                                                \n",
            "                                                                 \n",
            " conv2d_8 (Conv2D)           (None, 5, 5, 64)          36928     \n",
            "                                                                 \n",
            " batch_normalization_8 (Bat  (None, 5, 5, 64)          256       \n",
            " chNormalization)                                                \n",
            "                                                                 \n",
            " conv2d_9 (Conv2D)           (None, 5, 5, 256)         16640     \n",
            "                                                                 \n",
            " batch_normalization_9 (Bat  (None, 5, 5, 256)         1024      \n",
            " chNormalization)                                                \n",
            "                                                                 \n",
            " conv2d_10 (Conv2D)          (None, 5, 5, 128)         32896     \n",
            "                                                                 \n",
            " batch_normalization_10 (Ba  (None, 5, 5, 128)         512       \n",
            " tchNormalization)                                               \n",
            "                                                                 \n",
            " conv2d_11 (Conv2D)          (None, 5, 5, 128)         147584    \n",
            "                                                                 \n",
            " batch_normalization_11 (Ba  (None, 5, 5, 128)         512       \n",
            " tchNormalization)                                               \n",
            "                                                                 \n",
            " conv2d_12 (Conv2D)          (None, 5, 5, 512)         66048     \n",
            "                                                                 \n",
            " batch_normalization_12 (Ba  (None, 5, 5, 512)         2048      \n",
            " tchNormalization)                                               \n",
            "                                                                 \n",
            " conv2d_13 (Conv2D)          (None, 5, 5, 128)         65664     \n",
            "                                                                 \n",
            " batch_normalization_13 (Ba  (None, 5, 5, 128)         512       \n",
            " tchNormalization)                                               \n",
            "                                                                 \n",
            " conv2d_14 (Conv2D)          (None, 5, 5, 128)         147584    \n",
            "                                                                 \n",
            " batch_normalization_14 (Ba  (None, 5, 5, 128)         512       \n",
            " tchNormalization)                                               \n",
            "                                                                 \n",
            " conv2d_15 (Conv2D)          (None, 5, 5, 512)         66048     \n",
            "                                                                 \n",
            " batch_normalization_15 (Ba  (None, 5, 5, 512)         2048      \n",
            " tchNormalization)                                               \n",
            "                                                                 \n",
            " conv2d_16 (Conv2D)          (None, 5, 5, 128)         65664     \n",
            "                                                                 \n",
            " batch_normalization_16 (Ba  (None, 5, 5, 128)         512       \n",
            " tchNormalization)                                               \n",
            "                                                                 \n",
            " conv2d_17 (Conv2D)          (None, 5, 5, 128)         147584    \n",
            "                                                                 \n",
            " batch_normalization_17 (Ba  (None, 5, 5, 128)         512       \n",
            " tchNormalization)                                               \n",
            "                                                                 \n",
            " conv2d_18 (Conv2D)          (None, 5, 5, 512)         66048     \n",
            "                                                                 \n",
            " batch_normalization_18 (Ba  (None, 5, 5, 512)         2048      \n",
            " tchNormalization)                                               \n",
            "                                                                 \n",
            " conv2d_19 (Conv2D)          (None, 5, 5, 128)         65664     \n",
            "                                                                 \n",
            " batch_normalization_19 (Ba  (None, 5, 5, 128)         512       \n",
            " tchNormalization)                                               \n",
            "                                                                 \n",
            " conv2d_20 (Conv2D)          (None, 5, 5, 128)         147584    \n",
            "                                                                 \n",
            " batch_normalization_20 (Ba  (None, 5, 5, 128)         512       \n",
            " tchNormalization)                                               \n",
            "                                                                 \n",
            " conv2d_21 (Conv2D)          (None, 5, 5, 512)         66048     \n",
            "                                                                 \n",
            " batch_normalization_21 (Ba  (None, 5, 5, 512)         2048      \n",
            " tchNormalization)                                               \n",
            "                                                                 \n",
            " conv2d_22 (Conv2D)          (None, 5, 5, 256)         131328    \n",
            "                                                                 \n",
            " batch_normalization_22 (Ba  (None, 5, 5, 256)         1024      \n",
            " tchNormalization)                                               \n",
            "                                                                 \n",
            " conv2d_23 (Conv2D)          (None, 5, 5, 256)         590080    \n",
            "                                                                 \n",
            " batch_normalization_23 (Ba  (None, 5, 5, 256)         1024      \n",
            " tchNormalization)                                               \n",
            "                                                                 \n",
            " conv2d_24 (Conv2D)          (None, 5, 5, 1024)        263168    \n",
            "                                                                 \n",
            " batch_normalization_24 (Ba  (None, 5, 5, 1024)        4096      \n",
            " tchNormalization)                                               \n",
            "                                                                 \n",
            " conv2d_25 (Conv2D)          (None, 5, 5, 256)         262400    \n",
            "                                                                 \n",
            " batch_normalization_25 (Ba  (None, 5, 5, 256)         1024      \n",
            " tchNormalization)                                               \n",
            "                                                                 \n",
            " conv2d_26 (Conv2D)          (None, 5, 5, 256)         590080    \n",
            "                                                                 \n",
            " batch_normalization_26 (Ba  (None, 5, 5, 256)         1024      \n",
            " tchNormalization)                                               \n",
            "                                                                 \n",
            " conv2d_27 (Conv2D)          (None, 5, 5, 1024)        263168    \n",
            "                                                                 \n",
            " batch_normalization_27 (Ba  (None, 5, 5, 1024)        4096      \n",
            " tchNormalization)                                               \n",
            "                                                                 \n",
            " conv2d_28 (Conv2D)          (None, 5, 5, 256)         262400    \n",
            "                                                                 \n",
            " batch_normalization_28 (Ba  (None, 5, 5, 256)         1024      \n",
            " tchNormalization)                                               \n",
            "                                                                 \n",
            " conv2d_29 (Conv2D)          (None, 5, 5, 256)         590080    \n",
            "                                                                 \n",
            " batch_normalization_29 (Ba  (None, 5, 5, 256)         1024      \n",
            " tchNormalization)                                               \n",
            "                                                                 \n",
            " conv2d_30 (Conv2D)          (None, 5, 5, 1024)        263168    \n",
            "                                                                 \n",
            " batch_normalization_30 (Ba  (None, 5, 5, 1024)        4096      \n",
            " tchNormalization)                                               \n",
            "                                                                 \n",
            " conv2d_31 (Conv2D)          (None, 5, 5, 256)         262400    \n",
            "                                                                 \n",
            " batch_normalization_31 (Ba  (None, 5, 5, 256)         1024      \n",
            " tchNormalization)                                               \n",
            "                                                                 \n",
            " conv2d_32 (Conv2D)          (None, 5, 5, 256)         590080    \n",
            "                                                                 \n",
            " batch_normalization_32 (Ba  (None, 5, 5, 256)         1024      \n",
            " tchNormalization)                                               \n",
            "                                                                 \n",
            " conv2d_33 (Conv2D)          (None, 5, 5, 1024)        263168    \n",
            "                                                                 \n",
            " batch_normalization_33 (Ba  (None, 5, 5, 1024)        4096      \n",
            " tchNormalization)                                               \n",
            "                                                                 \n",
            " conv2d_34 (Conv2D)          (None, 5, 5, 256)         262400    \n",
            "                                                                 \n",
            " batch_normalization_34 (Ba  (None, 5, 5, 256)         1024      \n",
            " tchNormalization)                                               \n",
            "                                                                 \n",
            " conv2d_35 (Conv2D)          (None, 5, 5, 256)         590080    \n",
            "                                                                 \n",
            " batch_normalization_35 (Ba  (None, 5, 5, 256)         1024      \n",
            " tchNormalization)                                               \n",
            "                                                                 \n",
            " conv2d_36 (Conv2D)          (None, 5, 5, 1024)        263168    \n",
            "                                                                 \n",
            " batch_normalization_36 (Ba  (None, 5, 5, 1024)        4096      \n",
            " tchNormalization)                                               \n",
            "                                                                 \n",
            " conv2d_37 (Conv2D)          (None, 5, 5, 256)         262400    \n",
            "                                                                 \n",
            " batch_normalization_37 (Ba  (None, 5, 5, 256)         1024      \n",
            " tchNormalization)                                               \n",
            "                                                                 \n",
            " conv2d_38 (Conv2D)          (None, 5, 5, 256)         590080    \n",
            "                                                                 \n",
            " batch_normalization_38 (Ba  (None, 5, 5, 256)         1024      \n",
            " tchNormalization)                                               \n",
            "                                                                 \n",
            " conv2d_39 (Conv2D)          (None, 5, 5, 1024)        263168    \n",
            "                                                                 \n",
            " batch_normalization_39 (Ba  (None, 5, 5, 1024)        4096      \n",
            " tchNormalization)                                               \n",
            "                                                                 \n",
            " conv2d_40 (Conv2D)          (None, 5, 5, 512)         524800    \n",
            "                                                                 \n",
            " batch_normalization_40 (Ba  (None, 5, 5, 512)         2048      \n",
            " tchNormalization)                                               \n",
            "                                                                 \n",
            " conv2d_41 (Conv2D)          (None, 5, 5, 512)         2359808   \n",
            "                                                                 \n",
            " batch_normalization_41 (Ba  (None, 5, 5, 512)         2048      \n",
            " tchNormalization)                                               \n",
            "                                                                 \n",
            " conv2d_42 (Conv2D)          (None, 5, 5, 2024)        1038312   \n",
            "                                                                 \n",
            " batch_normalization_42 (Ba  (None, 5, 5, 2024)        8096      \n",
            " tchNormalization)                                               \n",
            "                                                                 \n",
            " conv2d_43 (Conv2D)          (None, 5, 5, 512)         1036800   \n",
            "                                                                 \n",
            " batch_normalization_43 (Ba  (None, 5, 5, 512)         2048      \n",
            " tchNormalization)                                               \n",
            "                                                                 \n",
            " conv2d_44 (Conv2D)          (None, 5, 5, 512)         2359808   \n",
            "                                                                 \n",
            " batch_normalization_44 (Ba  (None, 5, 5, 512)         2048      \n",
            " tchNormalization)                                               \n",
            "                                                                 \n",
            " conv2d_45 (Conv2D)          (None, 5, 5, 2024)        1038312   \n",
            "                                                                 \n",
            " batch_normalization_45 (Ba  (None, 5, 5, 2024)        8096      \n",
            " tchNormalization)                                               \n",
            "                                                                 \n",
            " conv2d_46 (Conv2D)          (None, 5, 5, 512)         1036800   \n",
            "                                                                 \n",
            " batch_normalization_46 (Ba  (None, 5, 5, 512)         2048      \n",
            " tchNormalization)                                               \n",
            "                                                                 \n",
            " conv2d_47 (Conv2D)          (None, 5, 5, 512)         2359808   \n",
            "                                                                 \n",
            " batch_normalization_47 (Ba  (None, 5, 5, 512)         2048      \n",
            " tchNormalization)                                               \n",
            "                                                                 \n",
            " conv2d_48 (Conv2D)          (None, 5, 5, 2024)        1038312   \n",
            "                                                                 \n",
            " batch_normalization_48 (Ba  (None, 5, 5, 2024)        8096      \n",
            " tchNormalization)                                               \n",
            "                                                                 \n",
            " global_average_pooling2d (  (None, 2024)              0         \n",
            " GlobalAveragePooling2D)                                         \n",
            "                                                                 \n",
            " flatten (Flatten)           (None, 2024)              0         \n",
            "                                                                 \n",
            " dense (Dense)               (None, 10)                20250     \n",
            "                                                                 \n",
            "=================================================================\n",
            "Total params: 20751794 (79.16 MB)\n",
            "Trainable params: 20706498 (78.99 MB)\n",
            "Non-trainable params: 45296 (176.94 KB)\n",
            "_________________________________________________________________\n"
          ]
        }
      ]
    },
    {
      "cell_type": "code",
      "source": [
        "model.compile(optimizer='adam',\n",
        "loss='categorical_crossentropy',\n",
        "metrics=['accuracy'])\n",
        "model.fit(x_train_mnist, y_train_mnist, epochs=5, batch_size=64, validation_data=(x_test_mnist, y_test_mnist))\n"
      ],
      "metadata": {
        "colab": {
          "base_uri": "https://localhost:8080/"
        },
        "id": "PZ48epwLokA8",
        "outputId": "3f04d092-aaf9-47ec-90e8-a174d7bd463e"
      },
      "execution_count": null,
      "outputs": [
        {
          "output_type": "stream",
          "name": "stdout",
          "text": [
            "Epoch 1/5\n",
            "938/938 [==============================] - 145s 92ms/step - loss: 1.1922 - accuracy: 0.5813 - val_loss: 1.0536 - val_accuracy: 0.7280\n",
            "Epoch 2/5\n",
            "938/938 [==============================] - 85s 90ms/step - loss: 0.3372 - accuracy: 0.8976 - val_loss: 0.3202 - val_accuracy: 0.9186\n",
            "Epoch 3/5\n",
            "938/938 [==============================] - 86s 92ms/step - loss: 0.1846 - accuracy: 0.9461 - val_loss: 0.2229 - val_accuracy: 0.9429\n",
            "Epoch 4/5\n",
            "938/938 [==============================] - 86s 92ms/step - loss: 0.1310 - accuracy: 0.9629 - val_loss: 0.1281 - val_accuracy: 0.9668\n",
            "Epoch 5/5\n",
            "938/938 [==============================] - 86s 92ms/step - loss: 0.1061 - accuracy: 0.9711 - val_loss: 0.1979 - val_accuracy: 0.9594\n"
          ]
        },
        {
          "output_type": "execute_result",
          "data": {
            "text/plain": [
              "<keras.src.callbacks.History at 0x78b415036fe0>"
            ]
          },
          "metadata": {},
          "execution_count": 13
        }
      ]
    },
    {
      "cell_type": "code",
      "source": [
        "for layer in model.layers:\n",
        "    print(f\"Layer Name: {layer.name}\")\n",
        "    print(f\"Trainable Parameters: {layer.count_params()}\\n\")"
      ],
      "metadata": {
        "id": "KTfHzvjPol8Q",
        "colab": {
          "base_uri": "https://localhost:8080/"
        },
        "outputId": "4fd5c1b8-a30f-4f2c-8e00-6bc4339c9c17"
      },
      "execution_count": null,
      "outputs": [
        {
          "output_type": "stream",
          "name": "stdout",
          "text": [
            "Layer Name: conv2d\n",
            "Trainable Parameters: 3200\n",
            "\n",
            "Layer Name: batch_normalization\n",
            "Trainable Parameters: 256\n",
            "\n",
            "Layer Name: max_pooling2d\n",
            "Trainable Parameters: 0\n",
            "\n",
            "Layer Name: conv2d_1\n",
            "Trainable Parameters: 4160\n",
            "\n",
            "Layer Name: batch_normalization_1\n",
            "Trainable Parameters: 256\n",
            "\n",
            "Layer Name: conv2d_2\n",
            "Trainable Parameters: 36928\n",
            "\n",
            "Layer Name: batch_normalization_2\n",
            "Trainable Parameters: 256\n",
            "\n",
            "Layer Name: conv2d_3\n",
            "Trainable Parameters: 16640\n",
            "\n",
            "Layer Name: batch_normalization_3\n",
            "Trainable Parameters: 1024\n",
            "\n",
            "Layer Name: conv2d_4\n",
            "Trainable Parameters: 16448\n",
            "\n",
            "Layer Name: batch_normalization_4\n",
            "Trainable Parameters: 256\n",
            "\n",
            "Layer Name: conv2d_5\n",
            "Trainable Parameters: 36928\n",
            "\n",
            "Layer Name: batch_normalization_5\n",
            "Trainable Parameters: 256\n",
            "\n",
            "Layer Name: conv2d_6\n",
            "Trainable Parameters: 16640\n",
            "\n",
            "Layer Name: batch_normalization_6\n",
            "Trainable Parameters: 1024\n",
            "\n",
            "Layer Name: conv2d_7\n",
            "Trainable Parameters: 16448\n",
            "\n",
            "Layer Name: batch_normalization_7\n",
            "Trainable Parameters: 256\n",
            "\n",
            "Layer Name: conv2d_8\n",
            "Trainable Parameters: 36928\n",
            "\n",
            "Layer Name: batch_normalization_8\n",
            "Trainable Parameters: 256\n",
            "\n",
            "Layer Name: conv2d_9\n",
            "Trainable Parameters: 16640\n",
            "\n",
            "Layer Name: batch_normalization_9\n",
            "Trainable Parameters: 1024\n",
            "\n",
            "Layer Name: conv2d_10\n",
            "Trainable Parameters: 32896\n",
            "\n",
            "Layer Name: batch_normalization_10\n",
            "Trainable Parameters: 512\n",
            "\n",
            "Layer Name: conv2d_11\n",
            "Trainable Parameters: 147584\n",
            "\n",
            "Layer Name: batch_normalization_11\n",
            "Trainable Parameters: 512\n",
            "\n",
            "Layer Name: conv2d_12\n",
            "Trainable Parameters: 66048\n",
            "\n",
            "Layer Name: batch_normalization_12\n",
            "Trainable Parameters: 2048\n",
            "\n",
            "Layer Name: conv2d_13\n",
            "Trainable Parameters: 65664\n",
            "\n",
            "Layer Name: batch_normalization_13\n",
            "Trainable Parameters: 512\n",
            "\n",
            "Layer Name: conv2d_14\n",
            "Trainable Parameters: 147584\n",
            "\n",
            "Layer Name: batch_normalization_14\n",
            "Trainable Parameters: 512\n",
            "\n",
            "Layer Name: conv2d_15\n",
            "Trainable Parameters: 66048\n",
            "\n",
            "Layer Name: batch_normalization_15\n",
            "Trainable Parameters: 2048\n",
            "\n",
            "Layer Name: conv2d_16\n",
            "Trainable Parameters: 65664\n",
            "\n",
            "Layer Name: batch_normalization_16\n",
            "Trainable Parameters: 512\n",
            "\n",
            "Layer Name: conv2d_17\n",
            "Trainable Parameters: 147584\n",
            "\n",
            "Layer Name: batch_normalization_17\n",
            "Trainable Parameters: 512\n",
            "\n",
            "Layer Name: conv2d_18\n",
            "Trainable Parameters: 66048\n",
            "\n",
            "Layer Name: batch_normalization_18\n",
            "Trainable Parameters: 2048\n",
            "\n",
            "Layer Name: conv2d_19\n",
            "Trainable Parameters: 65664\n",
            "\n",
            "Layer Name: batch_normalization_19\n",
            "Trainable Parameters: 512\n",
            "\n",
            "Layer Name: conv2d_20\n",
            "Trainable Parameters: 147584\n",
            "\n",
            "Layer Name: batch_normalization_20\n",
            "Trainable Parameters: 512\n",
            "\n",
            "Layer Name: conv2d_21\n",
            "Trainable Parameters: 66048\n",
            "\n",
            "Layer Name: batch_normalization_21\n",
            "Trainable Parameters: 2048\n",
            "\n",
            "Layer Name: conv2d_22\n",
            "Trainable Parameters: 131328\n",
            "\n",
            "Layer Name: batch_normalization_22\n",
            "Trainable Parameters: 1024\n",
            "\n",
            "Layer Name: conv2d_23\n",
            "Trainable Parameters: 590080\n",
            "\n",
            "Layer Name: batch_normalization_23\n",
            "Trainable Parameters: 1024\n",
            "\n",
            "Layer Name: conv2d_24\n",
            "Trainable Parameters: 263168\n",
            "\n",
            "Layer Name: batch_normalization_24\n",
            "Trainable Parameters: 4096\n",
            "\n",
            "Layer Name: conv2d_25\n",
            "Trainable Parameters: 262400\n",
            "\n",
            "Layer Name: batch_normalization_25\n",
            "Trainable Parameters: 1024\n",
            "\n",
            "Layer Name: conv2d_26\n",
            "Trainable Parameters: 590080\n",
            "\n",
            "Layer Name: batch_normalization_26\n",
            "Trainable Parameters: 1024\n",
            "\n",
            "Layer Name: conv2d_27\n",
            "Trainable Parameters: 263168\n",
            "\n",
            "Layer Name: batch_normalization_27\n",
            "Trainable Parameters: 4096\n",
            "\n",
            "Layer Name: conv2d_28\n",
            "Trainable Parameters: 262400\n",
            "\n",
            "Layer Name: batch_normalization_28\n",
            "Trainable Parameters: 1024\n",
            "\n",
            "Layer Name: conv2d_29\n",
            "Trainable Parameters: 590080\n",
            "\n",
            "Layer Name: batch_normalization_29\n",
            "Trainable Parameters: 1024\n",
            "\n",
            "Layer Name: conv2d_30\n",
            "Trainable Parameters: 263168\n",
            "\n",
            "Layer Name: batch_normalization_30\n",
            "Trainable Parameters: 4096\n",
            "\n",
            "Layer Name: conv2d_31\n",
            "Trainable Parameters: 262400\n",
            "\n",
            "Layer Name: batch_normalization_31\n",
            "Trainable Parameters: 1024\n",
            "\n",
            "Layer Name: conv2d_32\n",
            "Trainable Parameters: 590080\n",
            "\n",
            "Layer Name: batch_normalization_32\n",
            "Trainable Parameters: 1024\n",
            "\n",
            "Layer Name: conv2d_33\n",
            "Trainable Parameters: 263168\n",
            "\n",
            "Layer Name: batch_normalization_33\n",
            "Trainable Parameters: 4096\n",
            "\n",
            "Layer Name: conv2d_34\n",
            "Trainable Parameters: 262400\n",
            "\n",
            "Layer Name: batch_normalization_34\n",
            "Trainable Parameters: 1024\n",
            "\n",
            "Layer Name: conv2d_35\n",
            "Trainable Parameters: 590080\n",
            "\n",
            "Layer Name: batch_normalization_35\n",
            "Trainable Parameters: 1024\n",
            "\n",
            "Layer Name: conv2d_36\n",
            "Trainable Parameters: 263168\n",
            "\n",
            "Layer Name: batch_normalization_36\n",
            "Trainable Parameters: 4096\n",
            "\n",
            "Layer Name: conv2d_37\n",
            "Trainable Parameters: 262400\n",
            "\n",
            "Layer Name: batch_normalization_37\n",
            "Trainable Parameters: 1024\n",
            "\n",
            "Layer Name: conv2d_38\n",
            "Trainable Parameters: 590080\n",
            "\n",
            "Layer Name: batch_normalization_38\n",
            "Trainable Parameters: 1024\n",
            "\n",
            "Layer Name: conv2d_39\n",
            "Trainable Parameters: 263168\n",
            "\n",
            "Layer Name: batch_normalization_39\n",
            "Trainable Parameters: 4096\n",
            "\n",
            "Layer Name: conv2d_40\n",
            "Trainable Parameters: 524800\n",
            "\n",
            "Layer Name: batch_normalization_40\n",
            "Trainable Parameters: 2048\n",
            "\n",
            "Layer Name: conv2d_41\n",
            "Trainable Parameters: 2359808\n",
            "\n",
            "Layer Name: batch_normalization_41\n",
            "Trainable Parameters: 2048\n",
            "\n",
            "Layer Name: conv2d_42\n",
            "Trainable Parameters: 1038312\n",
            "\n",
            "Layer Name: batch_normalization_42\n",
            "Trainable Parameters: 8096\n",
            "\n",
            "Layer Name: conv2d_43\n",
            "Trainable Parameters: 1036800\n",
            "\n",
            "Layer Name: batch_normalization_43\n",
            "Trainable Parameters: 2048\n",
            "\n",
            "Layer Name: conv2d_44\n",
            "Trainable Parameters: 2359808\n",
            "\n",
            "Layer Name: batch_normalization_44\n",
            "Trainable Parameters: 2048\n",
            "\n",
            "Layer Name: conv2d_45\n",
            "Trainable Parameters: 1038312\n",
            "\n",
            "Layer Name: batch_normalization_45\n",
            "Trainable Parameters: 8096\n",
            "\n",
            "Layer Name: conv2d_46\n",
            "Trainable Parameters: 1036800\n",
            "\n",
            "Layer Name: batch_normalization_46\n",
            "Trainable Parameters: 2048\n",
            "\n",
            "Layer Name: conv2d_47\n",
            "Trainable Parameters: 2359808\n",
            "\n",
            "Layer Name: batch_normalization_47\n",
            "Trainable Parameters: 2048\n",
            "\n",
            "Layer Name: conv2d_48\n",
            "Trainable Parameters: 1038312\n",
            "\n",
            "Layer Name: batch_normalization_48\n",
            "Trainable Parameters: 8096\n",
            "\n",
            "Layer Name: global_average_pooling2d\n",
            "Trainable Parameters: 0\n",
            "\n",
            "Layer Name: flatten\n",
            "Trainable Parameters: 0\n",
            "\n",
            "Layer Name: dense\n",
            "Trainable Parameters: 20250\n",
            "\n"
          ]
        }
      ]
    },
    {
      "cell_type": "code",
      "source": [
        "import numpy as np\n",
        "predictions = model.predict(x_test_mnist)\n",
        "conf_matrix = confusion_matrix(np.argmax(y_test_mnist, axis=1), np.argmax(predictions, axis=1))\n",
        "# print(\"Confusion Matrix:\")\n",
        "# print(conf_matrix)\n",
        "import seaborn as sns\n",
        "from sklearn.metrics import confusion_matrix\n",
        "import matplotlib.pyplot as plt\n",
        "plt.figure(figsize=(8, 6))\n",
        "sns.heatmap(conf_matrix, annot=True, fmt='d', cmap='Blues')\n",
        "plt.xlabel('Predicted')\n",
        "plt.ylabel('True')\n",
        "plt.title('Confusion Matrix')\n",
        "plt.show()\n"
      ],
      "metadata": {
        "colab": {
          "base_uri": "https://localhost:8080/",
          "height": 581
        },
        "id": "C-jG5D6LlnCj",
        "outputId": "14c38ac2-6d7a-438e-8279-7eda3b3fdac8"
      },
      "execution_count": null,
      "outputs": [
        {
          "output_type": "stream",
          "name": "stdout",
          "text": [
            "313/313 [==============================] - 6s 15ms/step\n"
          ]
        },
        {
          "output_type": "display_data",
          "data": {
            "text/plain": [
              "<Figure size 800x600 with 2 Axes>"
            ],
            "image/png": "[encoded data removed]"
          },
          "metadata": {}
        }
      ]
    },
    {
      "cell_type": "code",
      "source": [
        "# Calculate precision, recall, and F1 score\n",
        "from sklearn.metrics import precision_recall_fscore_support\n",
        "precision, recall, f1_score, _ = precision_recall_fscore_support(np.argmax(y_test_mnist, axis=1), np.argmax(predictions, axis=1), average='weighted')\n",
        "print(f\"Precision: {precision}\")\n",
        "print(f\"Recall: {recall}\")\n",
        "print(f\"F1 Score: {f1_score}\")"
      ],
      "metadata": {
        "colab": {
          "base_uri": "https://localhost:8080/"
        },
        "id": "d4x9lh4tlphO",
        "outputId": "fe6df6c8-393b-484c-e3f8-04acfb970185"
      },
      "execution_count": null,
      "outputs": [
        {
          "output_type": "stream",
          "name": "stdout",
          "text": [
            "Precision: 0.9615096682081304\n",
            "Recall: 0.9594\n",
            "F1 Score: 0.9596679014654228\n"
          ]
        }
      ]
    },
    {
      "cell_type": "markdown",
      "source": [
        "VGG_pretrainning"
      ],
      "metadata": {
        "id": "JJGMKzV2mBEo"
      }
    },
    {
      "cell_type": "code",
      "source": [
        "(x_train_mnist, y_train_mnist), (x_test_mnist, y_test_mnist) = mnist.load_data()"
      ],
      "metadata": {
        "id": "cuL5Fzjolt3F",
        "colab": {
          "base_uri": "https://localhost:8080/"
        },
        "outputId": "a2eb5d52-4e0b-4f2b-b314-bca6cecd66f7"
      },
      "execution_count": 2,
      "outputs": [
        {
          "output_type": "stream",
          "name": "stdout",
          "text": [
            "Downloading data from https://storage.googleapis.com/tensorflow/tf-keras-datasets/mnist.npz\n",
            "11490434/11490434 [==============================] - 0s 0us/step\n"
          ]
        }
      ]
    },
    {
      "cell_type": "code",
      "source": [
        "x_train_mnist = x_train_mnist / 255.0\n",
        "x_test_mnist = x_test_mnist / 255.0"
      ],
      "metadata": {
        "id": "4-E59IpOot-r"
      },
      "execution_count": 3,
      "outputs": []
    },
    {
      "cell_type": "code",
      "source": [
        "x_train_mnist=x_train_mnist.reshape((x_train_mnist.shape[0],28,28,1))\n",
        "x_test_mnist=x_test_mnist.reshape((x_test_mnist.shape[0],28,28,1))\n",
        "y_train_mnist = to_categorical(y_train_mnist)\n",
        "y_test_mnist = to_categorical(y_test_mnist)"
      ],
      "metadata": {
        "id": "m4wCNaXFov9g"
      },
      "execution_count": 4,
      "outputs": []
    },
    {
      "cell_type": "code",
      "source": [
        "import numpy as np\n",
        "x_train_mnist=np.dstack([x_train_mnist] * 3)\n",
        "x_test_mnist=np.dstack([x_test_mnist]*3)\n",
        "x_train_mnist.shape,x_test_mnist.shape"
      ],
      "metadata": {
        "colab": {
          "base_uri": "https://localhost:8080/"
        },
        "id": "jgG1EPyOoxyA",
        "outputId": "576cfd59-21e2-4e47-ae92-4b76a471016c"
      },
      "execution_count": 5,
      "outputs": [
        {
          "output_type": "execute_result",
          "data": {
            "text/plain": [
              "((60000, 28, 84, 1), (10000, 28, 84, 1))"
            ]
          },
          "metadata": {},
          "execution_count": 5
        }
      ]
    },
    {
      "cell_type": "code",
      "source": [
        "x_train_mnist = x_train_mnist.reshape(-1, 28,28,3)\n",
        "x_test_mnist= x_test_mnist.reshape (-1,28,28,3)\n",
        "x_train_mnist.shape,x_test_mnist.shape"
      ],
      "metadata": {
        "colab": {
          "base_uri": "https://localhost:8080/"
        },
        "id": "j-KG-pT0ozrQ",
        "outputId": "1a435e28-8293-490e-bb0e-35515f9986db"
      },
      "execution_count": 6,
      "outputs": [
        {
          "output_type": "execute_result",
          "data": {
            "text/plain": [
              "((60000, 28, 28, 3), (10000, 28, 28, 3))"
            ]
          },
          "metadata": {},
          "execution_count": 6
        }
      ]
    },
    {
      "cell_type": "code",
      "source": [
        "from keras.preprocessing.image import img_to_array, array_to_img\n",
        "\n",
        "x_train_mnist = np.asarray([img_to_array(array_to_img(im, scale=False).resize((48,48))) for im in x_train_mnist])\n",
        "x_test_mnist = np.asarray([img_to_array(array_to_img(im, scale=False).resize((48,48))) for im in x_test_mnist])\n",
        "#train_x = preprocess_input(x)\n",
        "x_train_mnist.shape,x_test_mnist.shape"
      ],
      "metadata": {
        "id": "QfdL-fYso2fY",
        "colab": {
          "base_uri": "https://localhost:8080/"
        },
        "outputId": "e55043fa-3a13-4921-fc44-12d10a63f5cd"
      },
      "execution_count": 7,
      "outputs": [
        {
          "output_type": "execute_result",
          "data": {
            "text/plain": [
              "((60000, 48, 48, 3), (10000, 48, 48, 3))"
            ]
          },
          "metadata": {},
          "execution_count": 7
        }
      ]
    },
    {
      "cell_type": "code",
      "source": [
        "print(f'shape of x_train_mnist={x_train_mnist.shape} , x_test_mnist={x_test_mnist.shape} , y_train_mnist={y_train_mnist.shape} and y_test_mnist={y_test_mnist.shape}')\n"
      ],
      "metadata": {
        "id": "khh6O-cSo434",
        "colab": {
          "base_uri": "https://localhost:8080/"
        },
        "outputId": "680e323b-12ee-4b53-cb87-33ec55b1b61b"
      },
      "execution_count": 8,
      "outputs": [
        {
          "output_type": "stream",
          "name": "stdout",
          "text": [
            "shape of x_train_mnist=(60000, 48, 48, 3) , x_test_mnist=(10000, 48, 48, 3) , y_train_mnist=(60000, 10) and y_test_mnist=(10000, 10)\n"
          ]
        }
      ]
    },
    {
      "cell_type": "code",
      "source": [
        "input_Layer=layers.Input(shape=(48,48,3))"
      ],
      "metadata": {
        "id": "hZintcYMo7Jw"
      },
      "execution_count": 9,
      "outputs": []
    },
    {
      "cell_type": "code",
      "source": [
        "model_vgg16=VGG16(weights='imagenet',input_tensor=input_Layer,include_top=False)"
      ],
      "metadata": {
        "id": "sYfgSCeBo9lR",
        "colab": {
          "base_uri": "https://localhost:8080/"
        },
        "outputId": "cfb632a2-568a-4165-8f3f-46abbe6f484c"
      },
      "execution_count": 10,
      "outputs": [
        {
          "output_type": "stream",
          "name": "stdout",
          "text": [
            "Downloading data from https://storage.googleapis.com/tensorflow/keras-applications/vgg16/vgg16_weights_tf_dim_ordering_tf_kernels_notop.h5\n",
            "58889256/58889256 [==============================] - 0s 0us/step\n"
          ]
        }
      ]
    },
    {
      "cell_type": "code",
      "source": [
        "model_vgg16.summary()"
      ],
      "metadata": {
        "id": "HvO2R1TIo_ho",
        "colab": {
          "base_uri": "https://localhost:8080/"
        },
        "outputId": "7296fc34-b547-4af4-ef64-0d7a3e821139"
      },
      "execution_count": 11,
      "outputs": [
        {
          "output_type": "stream",
          "name": "stdout",
          "text": [
            "Model: \"vgg16\"\n",
            "_________________________________________________________________\n",
            " Layer (type)                Output Shape              Param #   \n",
            "=================================================================\n",
            " input_1 (InputLayer)        [(None, 48, 48, 3)]       0         \n",
            "                                                                 \n",
            " block1_conv1 (Conv2D)       (None, 48, 48, 64)        1792      \n",
            "                                                                 \n",
            " block1_conv2 (Conv2D)       (None, 48, 48, 64)        36928     \n",
            "                                                                 \n",
            " block1_pool (MaxPooling2D)  (None, 24, 24, 64)        0         \n",
            "                                                                 \n",
            " block2_conv1 (Conv2D)       (None, 24, 24, 128)       73856     \n",
            "                                                                 \n",
            " block2_conv2 (Conv2D)       (None, 24, 24, 128)       147584    \n",
            "                                                                 \n",
            " block2_pool (MaxPooling2D)  (None, 12, 12, 128)       0         \n",
            "                                                                 \n",
            " block3_conv1 (Conv2D)       (None, 12, 12, 256)       295168    \n",
            "                                                                 \n",
            " block3_conv2 (Conv2D)       (None, 12, 12, 256)       590080    \n",
            "                                                                 \n",
            " block3_conv3 (Conv2D)       (None, 12, 12, 256)       590080    \n",
            "                                                                 \n",
            " block3_pool (MaxPooling2D)  (None, 6, 6, 256)         0         \n",
            "                                                                 \n",
            " block4_conv1 (Conv2D)       (None, 6, 6, 512)         1180160   \n",
            "                                                                 \n",
            " block4_conv2 (Conv2D)       (None, 6, 6, 512)         2359808   \n",
            "                                                                 \n",
            " block4_conv3 (Conv2D)       (None, 6, 6, 512)         2359808   \n",
            "                                                                 \n",
            " block4_pool (MaxPooling2D)  (None, 3, 3, 512)         0         \n",
            "                                                                 \n",
            " block5_conv1 (Conv2D)       (None, 3, 3, 512)         2359808   \n",
            "                                                                 \n",
            " block5_conv2 (Conv2D)       (None, 3, 3, 512)         2359808   \n",
            "                                                                 \n",
            " block5_conv3 (Conv2D)       (None, 3, 3, 512)         2359808   \n",
            "                                                                 \n",
            " block5_pool (MaxPooling2D)  (None, 1, 1, 512)         0         \n",
            "                                                                 \n",
            "=================================================================\n",
            "Total params: 14714688 (56.13 MB)\n",
            "Trainable params: 14714688 (56.13 MB)\n",
            "Non-trainable params: 0 (0.00 Byte)\n",
            "_________________________________________________________________\n"
          ]
        }
      ]
    },
    {
      "cell_type": "code",
      "source": [
        "from keras.applications.vgg16 import preprocess_input\n",
        "\n",
        "last_layer=model_vgg16.output # we are taking last layer of the model\n",
        "\n",
        "# Add flatten layer: we are extending Neural Network by adding flattn layer\n",
        "flatten=layers.Flatten()(last_layer)\n",
        "dense1=layers.Dense(100,activation='relu')(flatten)\n",
        "dense1=layers.Dense(100,activation='relu')(flatten)\n",
        "dense1=layers.Dense(100,activation='relu')(flatten)\n",
        "output_layer=layers.Dense(10,activation='softmax')(flatten)\n",
        "model=models.Model(inputs=input_Layer,outputs=output_layer)\n",
        "model.summary()"
      ],
      "metadata": {
        "id": "-bBXx3APpBeb",
        "colab": {
          "base_uri": "https://localhost:8080/"
        },
        "outputId": "f93a6997-32c5-4b12-ca12-c6b1088fc722"
      },
      "execution_count": 12,
      "outputs": [
        {
          "output_type": "stream",
          "name": "stdout",
          "text": [
            "Model: \"model\"\n",
            "_________________________________________________________________\n",
            " Layer (type)                Output Shape              Param #   \n",
            "=================================================================\n",
            " input_1 (InputLayer)        [(None, 48, 48, 3)]       0         \n",
            "                                                                 \n",
            " block1_conv1 (Conv2D)       (None, 48, 48, 64)        1792      \n",
            "                                                                 \n",
            " block1_conv2 (Conv2D)       (None, 48, 48, 64)        36928     \n",
            "                                                                 \n",
            " block1_pool (MaxPooling2D)  (None, 24, 24, 64)        0         \n",
            "                                                                 \n",
            " block2_conv1 (Conv2D)       (None, 24, 24, 128)       73856     \n",
            "                                                                 \n",
            " block2_conv2 (Conv2D)       (None, 24, 24, 128)       147584    \n",
            "                                                                 \n",
            " block2_pool (MaxPooling2D)  (None, 12, 12, 128)       0         \n",
            "                                                                 \n",
            " block3_conv1 (Conv2D)       (None, 12, 12, 256)       295168    \n",
            "                                                                 \n",
            " block3_conv2 (Conv2D)       (None, 12, 12, 256)       590080    \n",
            "                                                                 \n",
            " block3_conv3 (Conv2D)       (None, 12, 12, 256)       590080    \n",
            "                                                                 \n",
            " block3_pool (MaxPooling2D)  (None, 6, 6, 256)         0         \n",
            "                                                                 \n",
            " block4_conv1 (Conv2D)       (None, 6, 6, 512)         1180160   \n",
            "                                                                 \n",
            " block4_conv2 (Conv2D)       (None, 6, 6, 512)         2359808   \n",
            "                                                                 \n",
            " block4_conv3 (Conv2D)       (None, 6, 6, 512)         2359808   \n",
            "                                                                 \n",
            " block4_pool (MaxPooling2D)  (None, 3, 3, 512)         0         \n",
            "                                                                 \n",
            " block5_conv1 (Conv2D)       (None, 3, 3, 512)         2359808   \n",
            "                                                                 \n",
            " block5_conv2 (Conv2D)       (None, 3, 3, 512)         2359808   \n",
            "                                                                 \n",
            " block5_conv3 (Conv2D)       (None, 3, 3, 512)         2359808   \n",
            "                                                                 \n",
            " block5_pool (MaxPooling2D)  (None, 1, 1, 512)         0         \n",
            "                                                                 \n",
            " flatten (Flatten)           (None, 512)               0         \n",
            "                                                                 \n",
            " dense_3 (Dense)             (None, 10)                5130      \n",
            "                                                                 \n",
            "=================================================================\n",
            "Total params: 14719818 (56.15 MB)\n",
            "Trainable params: 14719818 (56.15 MB)\n",
            "Non-trainable params: 0 (0.00 Byte)\n",
            "_________________________________________________________________\n"
          ]
        }
      ]
    },
    {
      "cell_type": "code",
      "source": [
        "model.compile(optimizer='adam',\n",
        "loss='categorical_crossentropy',\n",
        "metrics=['accuracy'])\n",
        "model.fit(x_train_mnist, y_train_mnist, epochs=5, batch_size=64, validation_data=(x_test_mnist, y_test_mnist))"
      ],
      "metadata": {
        "id": "o4aC0tlzpEYM",
        "colab": {
          "base_uri": "https://localhost:8080/"
        },
        "outputId": "3d59549f-a2cc-48df-865f-5ca02ccc578a"
      },
      "execution_count": 13,
      "outputs": [
        {
          "output_type": "stream",
          "name": "stdout",
          "text": [
            "Epoch 1/5\n",
            "938/938 [==============================] - 76s 66ms/step - loss: 2.2666 - accuracy: 0.1337 - val_loss: 2.1096 - val_accuracy: 0.2076\n",
            "Epoch 2/5\n",
            "938/938 [==============================] - 58s 62ms/step - loss: 1.9559 - accuracy: 0.2840 - val_loss: 1.8324 - val_accuracy: 0.3349\n",
            "Epoch 3/5\n",
            "938/938 [==============================] - 58s 61ms/step - loss: 1.7683 - accuracy: 0.3608 - val_loss: 1.7117 - val_accuracy: 0.3872\n",
            "Epoch 4/5\n",
            "938/938 [==============================] - 58s 61ms/step - loss: 1.6936 - accuracy: 0.3907 - val_loss: 1.6843 - val_accuracy: 0.3958\n",
            "Epoch 5/5\n",
            "938/938 [==============================] - 60s 64ms/step - loss: 1.6510 - accuracy: 0.4043 - val_loss: 1.6519 - val_accuracy: 0.4014\n"
          ]
        },
        {
          "output_type": "execute_result",
          "data": {
            "text/plain": [
              "<keras.src.callbacks.History at 0x78153c35fe80>"
            ]
          },
          "metadata": {},
          "execution_count": 13
        }
      ]
    },
    {
      "cell_type": "code",
      "source": [
        "for layer in model.layers:\n",
        "    print(f\"Layer Name: {layer.name}\")\n",
        "    print(f\"Trainable Parameters: {layer.count_params()}\\n\")"
      ],
      "metadata": {
        "id": "GxiRe160pHY5",
        "colab": {
          "base_uri": "https://localhost:8080/"
        },
        "outputId": "e09c5a59-a4eb-4d76-bfa6-17fc12fc9113"
      },
      "execution_count": 14,
      "outputs": [
        {
          "output_type": "stream",
          "name": "stdout",
          "text": [
            "Layer Name: input_1\n",
            "Trainable Parameters: 0\n",
            "\n",
            "Layer Name: block1_conv1\n",
            "Trainable Parameters: 1792\n",
            "\n",
            "Layer Name: block1_conv2\n",
            "Trainable Parameters: 36928\n",
            "\n",
            "Layer Name: block1_pool\n",
            "Trainable Parameters: 0\n",
            "\n",
            "Layer Name: block2_conv1\n",
            "Trainable Parameters: 73856\n",
            "\n",
            "Layer Name: block2_conv2\n",
            "Trainable Parameters: 147584\n",
            "\n",
            "Layer Name: block2_pool\n",
            "Trainable Parameters: 0\n",
            "\n",
            "Layer Name: block3_conv1\n",
            "Trainable Parameters: 295168\n",
            "\n",
            "Layer Name: block3_conv2\n",
            "Trainable Parameters: 590080\n",
            "\n",
            "Layer Name: block3_conv3\n",
            "Trainable Parameters: 590080\n",
            "\n",
            "Layer Name: block3_pool\n",
            "Trainable Parameters: 0\n",
            "\n",
            "Layer Name: block4_conv1\n",
            "Trainable Parameters: 1180160\n",
            "\n",
            "Layer Name: block4_conv2\n",
            "Trainable Parameters: 2359808\n",
            "\n",
            "Layer Name: block4_conv3\n",
            "Trainable Parameters: 2359808\n",
            "\n",
            "Layer Name: block4_pool\n",
            "Trainable Parameters: 0\n",
            "\n",
            "Layer Name: block5_conv1\n",
            "Trainable Parameters: 2359808\n",
            "\n",
            "Layer Name: block5_conv2\n",
            "Trainable Parameters: 2359808\n",
            "\n",
            "Layer Name: block5_conv3\n",
            "Trainable Parameters: 2359808\n",
            "\n",
            "Layer Name: block5_pool\n",
            "Trainable Parameters: 0\n",
            "\n",
            "Layer Name: flatten\n",
            "Trainable Parameters: 0\n",
            "\n",
            "Layer Name: dense_3\n",
            "Trainable Parameters: 5130\n",
            "\n"
          ]
        }
      ]
    },
    {
      "cell_type": "code",
      "source": [
        "predictions = model.predict(x_test_mnist)\n",
        "conf_matrix = confusion_matrix(np.argmax(y_test_mnist, axis=1), np.argmax(predictions, axis=1))\n",
        "# print(\"Confusion Matrix:\")\n",
        "# print(conf_matrix)\n",
        "import seaborn as sns\n",
        "from sklearn.metrics import confusion_matrix\n",
        "import matplotlib.pyplot as plt\n",
        "plt.figure(figsize=(8, 6))\n",
        "sns.heatmap(conf_matrix, annot=True, fmt='d', cmap='Blues')\n",
        "plt.xlabel('Predicted')\n",
        "plt.ylabel('True')\n",
        "plt.title('Confusion Matrix')\n",
        "plt.show()\n"
      ],
      "metadata": {
        "id": "nrqlYqmz07CD",
        "colab": {
          "base_uri": "https://localhost:8080/",
          "height": 581
        },
        "outputId": "5a8411cd-7977-46ff-bd1d-0d96539c344e"
      },
      "execution_count": 15,
      "outputs": [
        {
          "output_type": "stream",
          "name": "stdout",
          "text": [
            "313/313 [==============================] - 3s 11ms/step\n"
          ]
        },
        {
          "output_type": "display_data",
          "data": {
            "text/plain": [
              "<Figure size 800x600 with 2 Axes>"
            ],
            "image/png": "[encoded data removed]"
          },
          "metadata": {}
        }
      ]
    },
    {
      "cell_type": "code",
      "source": [
        "# Calculate precision, recall, and F1 score\n",
        "from sklearn.metrics import precision_recall_fscore_support\n",
        "precision, recall, f1_score, _ = precision_recall_fscore_support(np.argmax(y_test_mnist, axis=1), np.argmax(predictions, axis=1), average='weighted')\n",
        "print(f\"Precision: {precision}\")\n",
        "print(f\"Recall: {recall}\")\n",
        "print(f\"F1 Score: {f1_score}\")"
      ],
      "metadata": {
        "id": "3bkwU_rV1DCP",
        "colab": {
          "base_uri": "https://localhost:8080/"
        },
        "outputId": "12ee8d14-48e4-4107-efa4-bf52c5c83480"
      },
      "execution_count": 16,
      "outputs": [
        {
          "output_type": "stream",
          "name": "stdout",
          "text": [
            "Precision: 0.4125699760564831\n",
            "Recall: 0.4014\n",
            "F1 Score: 0.39356899406326196\n"
          ]
        }
      ]
    }
  ]
}